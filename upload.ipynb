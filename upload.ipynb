{
 "cells": [
  {
   "cell_type": "code",
   "execution_count": 1,
   "metadata": {},
   "outputs": [
    {
     "name": "stdout",
     "output_type": "stream",
     "text": [
      "Loaded 2017 data e.g. {'name': 'Boating in Hyde Park', 'complete': True}\n",
      "Loaded 2018 data e.g. {'name': 'Go to Africa', 'complete': False}\n",
      "Written out to file all_thing_data.json e.g. {'id': '2017_1', 'year': 2017, 'item_number': 1, 'name': 'Boating in Hyde Park', 'complete': True}\n",
      "{'id': '2017_1', 'year': 2017, 'item_number': 1, 'name': 'Boating in Hyde Park', 'complete': True}\n",
      "{'id': '2017_2', 'year': 2017, 'item_number': 2, 'name': 'Stratford Helter Skelter', 'complete': False}\n",
      "{'id': '2017_3', 'year': 2017, 'item_number': 3, 'name': 'Go to Burger & Lobster', 'complete': False}\n",
      "{'id': '2017_4', 'year': 2017, 'item_number': 4, 'name': 'Go to Dans Le Noir', 'complete': False}\n",
      "{'id': '2017_5', 'year': 2017, 'item_number': 5, 'name': 'Run a lap of Hyde Park', 'complete': True}\n",
      "{'id': '2017_6', 'year': 2017, 'item_number': 6, 'name': 'Rooftop cinema', 'complete': False}\n",
      "{'id': '2017_7', 'year': 2017, 'item_number': 7, 'name': 'Best aubergine restuarant', 'complete': True}\n",
      "{'id': '2017_8', 'year': 2017, 'item_number': 8, 'name': \"Games night at lizzy's\", 'complete': True}\n",
      "{'id': '2017_9', 'year': 2017, 'item_number': 9, 'name': 'Go to Edinbugh', 'complete': True}\n",
      "{'id': '2017_10', 'year': 2017, 'item_number': 10, 'name': 'Go to Rome', 'complete': True}\n",
      "{'id': '2017_11', 'year': 2017, 'item_number': 11, 'name': 'Three Peaks', 'complete': False}\n",
      "{'id': '2017_12', 'year': 2017, 'item_number': 12, 'name': 'Classical music concert', 'complete': True}\n",
      "{'id': '2017_13', 'year': 2017, 'item_number': 13, 'name': 'Go to a ballet', 'complete': True}\n",
      "{'id': '2017_14', 'year': 2017, 'item_number': 14, 'name': 'Go to a new museum', 'complete': True}\n",
      "{'id': '2017_15', 'year': 2017, 'item_number': 15, 'name': 'Secret cinema', 'complete': False}\n",
      "{'id': '2017_16', 'year': 2017, 'item_number': 16, 'name': 'Baking', 'complete': True}\n",
      "{'id': '2017_17', 'year': 2017, 'item_number': 17, 'name': 'Q1 brunch', 'complete': True}\n",
      "{'id': '2017_18', 'year': 2017, 'item_number': 18, 'name': 'Borough market', 'complete': True}\n",
      "{'id': '2017_19', 'year': 2017, 'item_number': 19, 'name': 'Swimming in a river near Oxford', 'complete': False}\n",
      "{'id': '2017_20', 'year': 2017, 'item_number': 20, 'name': 'Cycle London to Oxford', 'complete': False}\n",
      "{'id': '2017_21', 'year': 2017, 'item_number': 21, 'name': 'Cook each other a three course dinner (with candles)', 'complete': True, 'subitems': [{'name': 'Issie cooked', 'complete': True}, {'name': 'Issie cooked', 'complete': True}]}\n",
      "{'id': '2017_22', 'year': 2017, 'item_number': 22, 'name': 'Kew Gardens', 'complete': False}\n",
      "{'id': '2017_23', 'year': 2017, 'item_number': 23, 'name': 'Outdoor fun', 'complete': True}\n",
      "{'id': '2017_24', 'year': 2017, 'item_number': 24, 'name': 'Clubbing', 'complete': True}\n",
      "{'id': '2017_25', 'year': 2017, 'item_number': 25, 'name': 'Dance lesson', 'complete': True}\n",
      "{'id': '2017_26', 'year': 2017, 'item_number': 26, 'name': 'Make Pizza from scratch', 'complete': True}\n",
      "{'id': '2017_27', 'year': 2017, 'item_number': 27, 'name': 'Pub on Thames (Bermondsey)', 'complete': True}\n",
      "{'id': '2017_28', 'year': 2017, 'item_number': 28, 'name': 'Primrose Hill picnic', 'complete': False}\n",
      "{'id': '2017_29', 'year': 2017, 'item_number': 29, 'name': 'Pub quiz', 'complete': True}\n",
      "{'id': '2017_30', 'year': 2017, 'item_number': 30, 'name': 'Fancy lunchtime tasting menu', 'complete': True}\n",
      "{'id': '2018_1', 'year': 2018, 'item_number': 1, 'name': 'Go to Africa', 'complete': False}\n",
      "{'id': '2018_2', 'year': 2018, 'item_number': 2, 'name': 'Go to Copenhagen', 'complete': False}\n",
      "{'id': '2018_3', 'year': 2018, 'item_number': 3, 'name': 'Qs 1,2,3 and 4 brunch', 'complete': False, 'subitems': [{'name': 'Q1 brunch', 'complete': False}, {'name': 'Q2 brunch', 'complete': False}, {'name': 'Q3 brunch', 'complete': False}, {'name': 'Q4 brunch', 'complete': False}]}\n",
      "{'id': '2018_4', 'year': 2018, 'item_number': 4, 'name': 'Hampstead Heath walk & Kenwood', 'complete': False}\n",
      "{'id': '2018_5', 'year': 2018, 'item_number': 5, 'name': 'Go to a new museum', 'complete': False}\n",
      "{'id': '2018_6', 'year': 2018, 'item_number': 6, 'name': 'Go to see book of Mormen', 'complete': True}\n",
      "{'id': '2018_7', 'year': 2018, 'item_number': 7, 'name': 'Make sushi', 'complete': False}\n",
      "{'id': '2018_8', 'year': 2018, 'item_number': 8, 'name': 'Go surfing', 'complete': False}\n",
      "{'id': '2018_9', 'year': 2018, 'item_number': 9, 'name': 'Make a Baked Alaska', 'complete': False}\n",
      "{'id': '2018_10', 'year': 2018, 'item_number': 10, 'name': 'Go on a double date with Kelly', 'complete': False}\n",
      "{'id': '2018_11', 'year': 2018, 'item_number': 11, 'name': 'Go to an immersive theatre show', 'complete': False}\n",
      "{'id': '2018_12', 'year': 2018, 'item_number': 12, 'name': 'Go to a pottery class', 'complete': False}\n",
      "{'id': '2018_13', 'year': 2018, 'item_number': 13, 'name': 'Run a lap of Regents Park', 'complete': False}\n",
      "{'id': '2018_14', 'year': 2018, 'item_number': 14, 'name': 'Make Pret rivaling Bircher Museli', 'complete': False}\n",
      "{'id': '2018_15', 'year': 2018, 'item_number': 15, 'name': 'Go to watch a (pro) sports event', 'complete': False}\n",
      "{'id': '2018_16', 'year': 2018, 'item_number': 16, 'name': 'Watch The Sound Of Music', 'complete': False}\n",
      "{'id': '2018_17', 'year': 2018, 'item_number': 17, 'name': 'Go to a spin class with a screen', 'complete': True}\n",
      "{'id': '2018_18', 'year': 2018, 'item_number': 18, 'name': \"Go to a UK city we've never been to\", 'complete': False}\n",
      "{'id': '2018_19', 'year': 2018, 'item_number': 19, 'name': 'Go bowling', 'complete': False}\n",
      "{'id': '2018_20', 'year': 2018, 'item_number': 20, 'name': 'Visit toy fun', 'complete': False}\n",
      "{'id': '2018_21', 'year': 2018, 'item_number': 21, 'name': 'Go to a vegan restaurant', 'complete': False}\n",
      "{'id': '2018_22', 'year': 2018, 'item_number': 22, 'name': 'Go on a rollar coaster', 'complete': False}\n",
      "{'id': '2018_23', 'year': 2018, 'item_number': 23, 'name': 'Make a roast dinner', 'complete': False}\n",
      "{'id': '2018_24', 'year': 2018, 'item_number': 24, 'name': 'Go to the Sky Garden', 'complete': False}\n",
      "{'id': '2018_25', 'year': 2018, 'item_number': 25, 'name': 'Go to Whipsnade Zoo', 'complete': False}\n",
      "{'id': '2018_26', 'year': 2018, 'item_number': 26, 'name': 'Walks around the edge of London', 'complete': False}\n",
      "{'id': '2018_27', 'year': 2018, 'item_number': 27, 'name': 'Go to a music festival', 'complete': False}\n",
      "{'id': '2018_28', 'year': 2018, 'item_number': 28, 'name': 'Wine tasting', 'complete': False}\n",
      "{'id': '2018_29', 'year': 2018, 'item_number': 29, 'name': 'Ikea fun day & snacks', 'complete': False}\n",
      "{'id': '2018_30', 'year': 2018, 'item_number': 30, 'name': 'Watch the sunrise (ideally not having gone to bed)', 'complete': False}\n"
     ]
    }
   ],
   "source": [
    "import json\n",
    "\n",
    "\n",
    "with open('src/thething_2017.json', 'r') as f:\n",
    "    thething2017 = json.loads(f.read())\n",
    "with open('src/thething_2018.json', 'r') as f:\n",
    "    thething2018 = json.loads(f.read())\n",
    "\n",
    "print('Loaded 2017 data e.g.', thething2017[0])\n",
    "print('Loaded 2018 data e.g.', thething2018[0])\n",
    "\n",
    "out = []\n",
    "\n",
    "for i, item in enumerate(thething2017):\n",
    "    item_number = i + 1\n",
    "    item = {\n",
    "        \"id\": str(2017) + \"_\" + str(item_number),\n",
    "        \"year\": 2017,\n",
    "        \"item_number\": item_number,\n",
    "        **item\n",
    "    }\n",
    "    out.append(item)\n",
    "\n",
    "for i, item in enumerate(thething2018):\n",
    "    item_number = i + 1\n",
    "    item = {\n",
    "        \"id\": str(2018) + \"_\" + str(item_number),\n",
    "        \"year\": 2018,\n",
    "        \"item_number\": item_number,\n",
    "        **item\n",
    "    }\n",
    "    out.append(item)\n",
    "\n",
    "with open('all_thing_data.json', 'w') as f:\n",
    "    f.write(json.dumps(out, indent=4))\n",
    "    print(f\"Written out to file {f.name} e.g. {out[0]}\")\n",
    "\n",
    "for i in out:\n",
    "    print(i)\n"
   ]
  },
  {
   "cell_type": "code",
   "execution_count": 8,
   "metadata": {},
   "outputs": [],
   "source": [
    "import boto3\n",
    "\n",
    "session = boto3.Session(profile_name='simon')\n",
    "# dev_s3_client = session.client('s3')\n",
    "dynamodb = session.resource('dynamodb', region_name='us-east-1')"
   ]
  },
  {
   "cell_type": "code",
   "execution_count": 4,
   "metadata": {},
   "outputs": [],
   "source": []
  },
  {
   "cell_type": "code",
   "execution_count": 11,
   "metadata": {},
   "outputs": [],
   "source": [
    "thething = dynamodb.Table('thething')"
   ]
  },
  {
   "cell_type": "code",
   "execution_count": 16,
   "metadata": {},
   "outputs": [],
   "source": [
    "for item in out:\n",
    "    thething.put_item(Item=item)"
   ]
  },
  {
   "cell_type": "code",
   "execution_count": null,
   "metadata": {},
   "outputs": [],
   "source": []
  }
 ],
 "metadata": {
  "kernelspec": {
   "display_name": "Python 3",
   "language": "python",
   "name": "python3"
  },
  "language_info": {
   "codemirror_mode": {
    "name": "ipython",
    "version": 3
   },
   "file_extension": ".py",
   "mimetype": "text/x-python",
   "name": "python",
   "nbconvert_exporter": "python",
   "pygments_lexer": "ipython3",
   "version": "3.6.5"
  }
 },
 "nbformat": 4,
 "nbformat_minor": 2
}
